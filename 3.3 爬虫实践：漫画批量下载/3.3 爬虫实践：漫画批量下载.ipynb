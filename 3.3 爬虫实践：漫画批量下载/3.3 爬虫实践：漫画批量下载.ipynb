{
 "cells": [
  {
   "cell_type": "code",
   "execution_count": 5,
   "metadata": {},
   "outputs": [],
   "source": [
    "import requests\n",
    "import time\n",
    "from selenium import webdriver\n",
    "import os"
   ]
  },
  {
   "cell_type": "code",
   "execution_count": 6,
   "metadata": {},
   "outputs": [],
   "source": [
    "def mkdir(path):\n",
    "    '''\n",
    "    防止目录存在\n",
    "    '''\n",
    "    if not os.path.exists(path):\n",
    "        os.mkdir(path)\n",
    "        \n",
    "def SavePic(filename,url):\n",
    "    '''\n",
    "    将抓取到的图片保存到本地\n",
    "    '''\n",
    "    with open(filename,'wb') as f:\n",
    "        f.write(requests.get(url).content)"
   ]
  },
  {
   "cell_type": "code",
   "execution_count": 24,
   "metadata": {},
   "outputs": [],
   "source": [
    "def get_TOF(index_url):\n",
    "    url_list=[]\n",
    "    \n",
    "    browser=webdriver.PhantomJS(executable_path=r'C:/phantomjs/bin/phantomjs.exe')\n",
    "    browser.get(index_url)\n",
    "    browser.implicitly_wait(3)\n",
    "    \n",
    "    title=browser.title.split(',')[0]\n",
    "    mkdir(title)\n",
    "    \n",
    "    comics_list=browser.find_elements_by_class_name('comic_Serial_list')\n",
    "    \n",
    "    for part in comics_list:\n",
    "        links=part.find_elements_by_tag_name('a')\n",
    "        for link in links:\n",
    "            url_list.append(link.get_attribute('href'))\n",
    "\n",
    "    browser.quit()\n",
    "    Comics = dict(name=title, urls=url_list)\n",
    "\n",
    "    return Comics"
   ]
  },
  {
   "cell_type": "code",
   "execution_count": 22,
   "metadata": {},
   "outputs": [],
   "source": [
    "def get_pic(Comics):\n",
    "    '''\n",
    "    打开每个章节的url，\n",
    "    找到漫画图片的地址，\n",
    "    并写入到本地\n",
    "    '''\n",
    "    comic_list = Comics['urls']\n",
    "    basedir = Comics['name']\n",
    "    \n",
    "    browser = webdriver.PhantomJS(executable_path=r'C:/phantomjs/bin/phantomjs.exe')\n",
    "    for url in comic_list:\n",
    "\n",
    "        browser.get(url)\n",
    "        browser.implicitly_wait(3)\n",
    "\n",
    "        # 创建章节目录\n",
    "        dirname = basedir + '/' + browser.title.split('-')[1]\n",
    "        mkdir(dirname)\n",
    "\n",
    "        # 找到该漫画一共有多少页\n",
    "        pageNum = len(browser.find_elements_by_tag_name('option'))\n",
    "\n",
    "        # 找到下一页的按钮\n",
    "        nextpage = browser.find_element_by_xpath('//*[@id=\"AD_j1\"]/div/a[4]')\n",
    "        # 找到图片地址，并点击下一页\n",
    "        for i in range(pageNum):\n",
    "            pic_url = browser.find_element_by_id('curPic').get_attribute('src')\n",
    "            filename = dirname + '/' + str(i) + '.png'\n",
    "            SavePic(filename, pic_url)\n",
    "            # 点击下一页的按钮，加载下一张图\n",
    "            nextpage.click()\n",
    "\n",
    "        print('当前章节\\t{}  下载完毕'.format(browser.title))\n",
    "\n",
    "    browser.quit()\n",
    "    print('所有章节下载完毕')  "
   ]
  },
  {
   "cell_type": "code",
   "execution_count": 25,
   "metadata": {},
   "outputs": [
    {
     "name": "stdout",
     "output_type": "stream",
     "text": [
      "请输入漫画首页地址： \n",
      "https://manhua.sfacg.com/mh/SYMW/\n",
      "当前章节\t失业魔王-018话-失业魔王漫画_SF在线漫画  下载完毕\n",
      "当前章节\t失业魔王-017话-失业魔王漫画_SF在线漫画  下载完毕\n",
      "当前章节\t失业魔王-016话-失业魔王漫画_SF在线漫画  下载完毕\n",
      "当前章节\t失业魔王-015话-失业魔王漫画_SF在线漫画  下载完毕\n",
      "当前章节\t失业魔王-014话-失业魔王漫画_SF在线漫画  下载完毕\n",
      "当前章节\t失业魔王-013话-失业魔王漫画_SF在线漫画  下载完毕\n",
      "当前章节\t失业魔王-012话-失业魔王漫画_SF在线漫画  下载完毕\n",
      "当前章节\t失业魔王-011话-失业魔王漫画_SF在线漫画  下载完毕\n",
      "当前章节\t失业魔王-010话-失业魔王漫画_SF在线漫画  下载完毕\n",
      "当前章节\t失业魔王-009话-失业魔王漫画_SF在线漫画  下载完毕\n",
      "当前章节\t失业魔王-008话-失业魔王漫画_SF在线漫画  下载完毕\n",
      "当前章节\t失业魔王-007话-失业魔王漫画_SF在线漫画  下载完毕\n",
      "当前章节\t失业魔王-006话-失业魔王漫画_SF在线漫画  下载完毕\n",
      "当前章节\t失业魔王-005话-失业魔王漫画_SF在线漫画  下载完毕\n",
      "当前章节\t失业魔王-004话-失业魔王漫画_SF在线漫画  下载完毕\n",
      "当前章节\t失业魔王-003话-失业魔王漫画_SF在线漫画  下载完毕\n",
      "当前章节\t失业魔王-002话-失业魔王漫画_SF在线漫画  下载完毕\n",
      "当前章节\t失业魔王-001话-失业魔王漫画_SF在线漫画  下载完毕\n",
      "当前章节\t失业魔王-序章-失业魔王漫画_SF在线漫画  下载完毕\n",
      "所有章节下载完毕\n"
     ]
    }
   ],
   "source": [
    "def main():\n",
    "    url = str(input('请输入漫画首页地址： \\n'))\n",
    "    Comics = get_TOF(url)\n",
    "    get_pic(Comics)\n",
    "\n",
    "\n",
    "if __name__ == '__main__':\n",
    "    main()"
   ]
  },
  {
   "cell_type": "code",
   "execution_count": 30,
   "metadata": {},
   "outputs": [
    {
     "name": "stdout",
     "output_type": "stream",
     "text": [
      "从零开始写Python爬虫 --- 爬虫实践：螺纹钢数据&Cookies - 知乎\n"
     ]
    }
   ],
   "source": [
    "browser=webdriver.PhantomJS(executable_path=r'C:/phantomjs/bin/phantomjs.exe')\n",
    "browser.get('https://zhuanlan.zhihu.com/p/27232687')\n",
    "browser.implicitly_wait(3)\n",
    "    \n",
    "title=browser.title.split(',')[0]\n",
    "print(browser.title)"
   ]
  },
  {
   "cell_type": "code",
   "execution_count": 39,
   "metadata": {},
   "outputs": [
    {
     "data": {
      "text/plain": [
       "'https://manhua.sfacg.com/mh/SYMW/'"
      ]
     },
     "execution_count": 39,
     "metadata": {},
     "output_type": "execute_result"
    }
   ],
   "source": [
    "browser = webdriver.PhantomJS(executable_path=r'C:/phantomjs/bin/phantomjs.exe')\n",
    "browser.get('https://manhua.sfacg.com/mh/SYMW/60763/#p=2')\n",
    "browser.implicitly_wait(3)\n",
    "nextpage=browser.find_element_by_xpath('//*[@id=\"AD_j1\"]/div/a[1]')\n",
    "nextpage.get_attribute('href')"
   ]
  },
  {
   "cell_type": "code",
   "execution_count": null,
   "metadata": {},
   "outputs": [],
   "source": []
  }
 ],
 "metadata": {
  "kernelspec": {
   "display_name": "Python 3",
   "language": "python",
   "name": "python3"
  },
  "language_info": {
   "codemirror_mode": {
    "name": "ipython",
    "version": 3
   },
   "file_extension": ".py",
   "mimetype": "text/x-python",
   "name": "python",
   "nbconvert_exporter": "python",
   "pygments_lexer": "ipython3",
   "version": "3.7.1"
  }
 },
 "nbformat": 4,
 "nbformat_minor": 2
}
