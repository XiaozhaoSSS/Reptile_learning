{
 "cells": [
  {
   "cell_type": "code",
   "execution_count": null,
   "metadata": {},
   "outputs": [],
   "source": [
    "import requests\n",
    "from bs4 import BeautifulSoup\n",
    "import re\n",
    "\n",
    "\n",
    "def get_html(url, cookies):\n",
    "    try:\n",
    "        r = requests.get(url, cookies=cookies, timeout=30)\n",
    "        r.raise_for_status\n",
    "        r.encoding = r.apparent_encoding\n",
    "        return r.text\n",
    "    except:\n",
    "        return \"Someting Wrong！\"\n",
    "\n",
    "\n",
    "def get_url():\n",
    "    urls = []\n",
    "\n",
    "    for i in range(1, 50):\n",
    "        nextpage = 'https://list1.mysteel.com/market/p-221-0----0101-0--------' + str(i) + '.html'\n",
    "        html = requests.get(nextpage, timeout=15)\n",
    "        soup = BeautifulSoup(html.text, 'lxml')\n",
    "\n",
    "        nlist = soup.find('ul', class_='nlist')\n",
    "\n",
    "        data_vals = nlist.find_all('li')\n",
    "\n",
    "        for data_val in data_vals:\n",
    "            # print(data_val)\n",
    "            try:\n",
    "                url = 'http:' + data_val.find('a')['href']\n",
    "                urls.append(url)\n",
    "            except TypeError:\n",
    "                pass\n",
    "\n",
    "    return urls\n",
    "\n",
    "\n",
    "def get_one_data(url, cookies, days, prices, nums):\n",
    "    print(url)\n",
    "\n",
    "    r = get_html(url, cookies)\n",
    "    soup = BeautifulSoup(r, 'lxml')\n",
    "\n",
    "    # text1=soup.find('div',class_='text')\n",
    "    # text=text1.find('div',class_='text')\n",
    "\n",
    "    # print(text)\n",
    "    try:\n",
    "        text = soup.find('div', id='text22222')\n",
    "        ctrs = text.find_all('tr')\n",
    "    except AttributeError:\n",
    "        try:\n",
    "            text = soup.find('div', id='text')\n",
    "            ctrs = text.find_all('tr')\n",
    "        except AttributeError:\n",
    "            print('这个链接有点问题')\n",
    "    price = 0\n",
    "    num = 0\n",
    "    for ctr in ctrs[2:]:\n",
    "        tds = ctr.find_all('td')\n",
    "        try:\n",
    "            print('tds[0]是', tds[0])\n",
    "            # print(tds[0].text)\n",
    "            if tds[0].text.strip() == '螺纹钢':\n",
    "                print('tds[4]是',tds[4])\n",
    "                price += int(tds[4].text.strip())\n",
    "\n",
    "                num += 1\n",
    "        except IndexError:\n",
    "            pass\n",
    "        except ValueError:\n",
    "            print('无权限：',tds[4])\n",
    "    title = soup.title.string\n",
    "    day = re.findall(r'\\d+', title)[0]\n",
    "\n",
    "    if day in days:\n",
    "        prices[days.index(day)] = prices[days.index(day)] + price\n",
    "        nums[days.index(day)] = nums[days.index(day)] + num\n",
    "    else:\n",
    "        days.append(day)\n",
    "        prices.append(price)\n",
    "        nums.append(num)\n",
    "\n",
    "\n",
    "if __name__ == '__main__':\n",
    "\n",
    "    # 获取登录cookies\n",
    "    #raw_cookies = 'JSESSIONID=F8BBBA42CD0BBB6EF1E513CF6599FFCC; Hm_lvt_1c4432afacfa2301369a5625795031b8=1496309242; Hm_lpvt_1c4432afacfa2301369a5625795031b8=1496324582; _login_token=a429e808d499f09a57581e7c5690dd67; _login_uid=2069975; _login_mid=2890196; _last_loginuname=skyppe; a429e808d499f09a57581e7c5690dd67=17%3D5%2635%3D5%2636%3D5%2633%3D5%2634%3D5%2613%3D5%2637%3D5%2611%3D5%2638%3D5%262%3D5%261%3D5%2642%3D5%2632%3D5%2641%3D5%2631%3D5%264%3D5%2640%3D5%26catalog%3D010205%2C010202%2C0222%2C0223%2C0205'\n",
    "    raw_cookies ='_last_loginuname=mysteel814; _rememberStatus=false; 531a8d2f539c7bc2a219ae3764d0a8a3=35%3D5%2622%3D15%2636%3D5%2633%3D5%2634%3D5%2613%3D5%2637%3D5%2611%3D5%2638%3D5%262%3D5%261%3D5%2642%3D5%2632%3D5%2641%3D5%2631%3D5%2640%3D5%264%3D10%26catalog%3D0204%2C1006%2C0203%2C0222%2C0223%2C0205%2C0202%2C0213%2C0223%2C0205%2C0222%2C010205%2C010202%2C0220%2C1001%2C020105%2C020206%2C0209%2C0201%2C02%2C1002; href=https%3A%2F%2Fwww.mysteel.com%2Ffooter_iframe.html; Hm_lvt_1c4432afacfa2301369a5625795031b8=1566124751,1566208807,1566209673,1566368262; accessId=5d36a9e0-919c-11e9-903c-ab24dbab411b; _login_token=6fe7bed88e709a827ae7a2f984fdf511; _login_uid=4381274; _login_mid=5404268; _login_ip=202.118.75.146; 6fe7bed88e709a827ae7a2f984fdf511=1%3D5; pageViewNum=5; Hm_lpvt_1c4432afacfa2301369a5625795031b8=1566375111; _last_ch_r_t=1566375032314'\n",
    "    cookies = {}\n",
    "    for line in raw_cookies.split(';'):\n",
    "        key, value = line.split('=', 1)\n",
    "        cookies[key] = value\n",
    "\n",
    "    # 获取所有数据的详情的url页面\n",
    "    urls = get_url()\n",
    "\n",
    "    days = []\n",
    "    prices = []\n",
    "    nums = []\n",
    "\n",
    "    # 写入数据\n",
    "    for url in urls:\n",
    "        get_one_data(url, cookies, days, prices, nums)\n",
    "    #get_one_data('http://export.mysteel.com/m/19/0821/15/S5365753400B57340.html', cookies, days, prices, nums)\n",
    "    with open('螺纹钢.txt', 'a+') as f:\n",
    "        for i in range(len(days)):\n",
    "            f.write(days[i] + '\\t' + str(prices[i]) +  '\\t' + str(nums[i]) + '\\n')\n",
    "\n",
    "    print('所有数据写入完毕')"
   ]
  },
  {
   "cell_type": "code",
   "execution_count": null,
   "metadata": {},
   "outputs": [],
   "source": [
    "urll='http://global.mysteel.com/m/19/0816/17/FD24F1774DE72624.html'\n",
    "\n",
    "r = get_html(urll, cookies)\n",
    "soup = BeautifulSoup(r, 'lxml')\n",
    "tds0=[]   \n",
    "    #text1=soup.find('div',class_='text')\n",
    "    #text=text1.find('div',class_='text')\n",
    "text=soup.find('div',id='text22222')\n",
    "ctrs=text.find_all('tr')\n",
    "for ctr in ctrs[2:]:\n",
    "    tds=ctr.find_all('td')\n",
    "\n",
    "    print('tds[0]是',tds[0])\n",
    "    print('tds[0].text是',tds[0].text)\n",
    "    tds0.append(tds[0].text)"
   ]
  },
  {
   "cell_type": "code",
   "execution_count": null,
   "metadata": {},
   "outputs": [],
   "source": [
    "tds[0]"
   ]
  },
  {
   "cell_type": "code",
   "execution_count": null,
   "metadata": {},
   "outputs": [],
   "source": [
    "tds0[0].strip()=='中国'"
   ]
  },
  {
   "cell_type": "code",
   "execution_count": null,
   "metadata": {},
   "outputs": [],
   "source": [
    "import requests\n",
    "from bs4 import BeautifulSoup\n",
    "import re\n",
    "def get_html(url, cookies):\n",
    "    try:\n",
    "        r = requests.get(url, cookies=cookies, timeout=30)\n",
    "        r.raise_for_status\n",
    "        r.encoding = r.apparent_encoding\n",
    "        return r.text\n",
    "    except:\n",
    "        return \"Someting Wrong！\"\n",
    "raw_cookies = 'JSESSIONID=F8BBBA42CD0BBB6EF1E513CF6599FFCC; Hm_lvt_1c4432afacfa2301369a5625795031b8=1496309242; Hm_lpvt_1c4432afacfa2301369a5625795031b8=1496324582; _login_token=a429e808d499f09a57581e7c5690dd67; _login_uid=2069975; _login_mid=2890196; _last_loginuname=skyppe; a429e808d499f09a57581e7c5690dd67=17%3D5%2635%3D5%2636%3D5%2633%3D5%2634%3D5%2613%3D5%2637%3D5%2611%3D5%2638%3D5%262%3D5%261%3D5%2642%3D5%2632%3D5%2641%3D5%2631%3D5%264%3D5%2640%3D5%26catalog%3D010205%2C010202%2C0222%2C0223%2C0205'\n",
    "\n",
    "cookies = {}\n",
    "for line in raw_cookies.split(';'):\n",
    "    key, value = line.split('=', 1)\n",
    "    cookies[key] = value"
   ]
  },
  {
   "cell_type": "code",
   "execution_count": 8,
   "metadata": {},
   "outputs": [
    {
     "data": {
      "text/plain": [
       "'%E4%B8%8A%E6%B5%B7'"
      ]
     },
     "execution_count": 8,
     "metadata": {},
     "output_type": "execute_result"
    }
   ],
   "source": [
    "import urllib\n",
    "urllib.parse.quote(\"上海\")"
   ]
  },
  {
   "cell_type": "code",
   "execution_count": 4,
   "metadata": {},
   "outputs": [
    {
     "data": {
      "text/plain": [
       "b'\\xe6\\xb5\\x8e\\xe5\\x8d\\x97'"
      ]
     },
     "execution_count": 4,
     "metadata": {},
     "output_type": "execute_result"
    }
   ],
   "source": [
    "s='济南'\n",
    "s.encode('utf8')"
   ]
  },
  {
   "cell_type": "code",
   "execution_count": null,
   "metadata": {},
   "outputs": [],
   "source": []
  }
 ],
 "metadata": {
  "kernelspec": {
   "display_name": "Python 3",
   "language": "python",
   "name": "python3"
  },
  "language_info": {
   "codemirror_mode": {
    "name": "ipython",
    "version": 3
   },
   "file_extension": ".py",
   "mimetype": "text/x-python",
   "name": "python",
   "nbconvert_exporter": "python",
   "pygments_lexer": "ipython3",
   "version": "3.7.1"
  }
 },
 "nbformat": 4,
 "nbformat_minor": 2
}
